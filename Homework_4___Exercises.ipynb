{
  "nbformat": 4,
  "nbformat_minor": 0,
  "metadata": {
    "kernelspec": {
      "display_name": "Python 3",
      "language": "python",
      "name": "python3"
    },
    "language_info": {
      "codemirror_mode": {
        "name": "ipython",
        "version": 3
      },
      "file_extension": ".py",
      "mimetype": "text/x-python",
      "name": "python",
      "nbconvert_exporter": "python",
      "pygments_lexer": "ipython3",
      "version": "3.8.3"
    },
    "colab": {
      "name": "Homework 4 _ Exercises.ipynb",
      "provenance": [],
      "collapsed_sections": [],
      "include_colab_link": true
    }
  },
  "cells": [
    {
      "cell_type": "markdown",
      "metadata": {
        "id": "view-in-github",
        "colab_type": "text"
      },
      "source": [
        "<a href=\"https://colab.research.google.com/github/maverick2256/maverick2256/blob/master/Homework_4___Exercises.ipynb\" target=\"_parent\"><img src=\"https://colab.research.google.com/assets/colab-badge.svg\" alt=\"Open In Colab\"/></a>"
      ]
    },
    {
      "cell_type": "code",
      "metadata": {
        "id": "dPsSZB--nHpw"
      },
      "source": [
        "#Name: Suraj Palaskar\n",
        "#CWID-10479284\n",
        "#HW_4"
      ],
      "execution_count": 76,
      "outputs": []
    },
    {
      "cell_type": "code",
      "metadata": {
        "id": "3GX7lD9zEBe-"
      },
      "source": [
        "import scipy.stats as ss\n",
        "import numpy as np\n",
        "import pandas as pd\n",
        "\n",
        "import matplotlib.pyplot as plt"
      ],
      "execution_count": 75,
      "outputs": []
    },
    {
      "cell_type": "code",
      "metadata": {
        "colab": {
          "base_uri": "https://localhost:8080/"
        },
        "id": "9yaPZBNUEBfI",
        "outputId": "fb2a3914-ae44-4be7-ada7-a27fc52a6672"
      },
      "source": [
        "#Read the data from homework_data.csv file and set the column Student_Id as the index of the dataframe. The data contains the student id and grade he/she took in CS 556.\n",
        "df =  pd.read_csv('homework_data.csv')\n",
        "print(df.head())"
      ],
      "execution_count": 39,
      "outputs": [
        {
          "output_type": "stream",
          "name": "stdout",
          "text": [
            "   Student_Id  Grades\n",
            "0           0    74.0\n",
            "1           1    85.0\n",
            "2           2    70.0\n",
            "3           3    81.0\n",
            "4           4    83.0\n"
          ]
        }
      ]
    },
    {
      "cell_type": "code",
      "metadata": {
        "colab": {
          "base_uri": "https://localhost:8080/"
        },
        "id": "66wxOrk1EBfO",
        "outputId": "ee3cc396-226b-4326-b413-d063731eb58c"
      },
      "source": [
        "#Computing the mean and standard deviation of the grades\n",
        "mean = df[\"Grades\"].mean()\n",
        "std = df[\"Grades\"].std()\n",
        "print(\"Mean is: \", mean)\n",
        "print(\"Std is: \", std)"
      ],
      "execution_count": 40,
      "outputs": [
        {
          "output_type": "stream",
          "name": "stdout",
          "text": [
            "Mean is:  79.617\n",
            "Std is:  12.252364320058048\n"
          ]
        }
      ]
    },
    {
      "cell_type": "code",
      "metadata": {
        "colab": {
          "base_uri": "https://localhost:8080/"
        },
        "id": "hRvfDLOdEBfR",
        "outputId": "c6ca5231-a1e9-4693-e7c8-c5b14d1045e1"
      },
      "source": [
        "#Perform the normal test to check whether the data is normally distributed\n",
        "k2, p = ss.normaltest(df[\"Grades\"])\n",
        "if p > 0.05:\n",
        "    print(\"Yes the data is normally distributed\")\n",
        "else:\n",
        "    print(\"No the data is not normally distributed\")"
      ],
      "execution_count": 41,
      "outputs": [
        {
          "output_type": "stream",
          "name": "stdout",
          "text": [
            "Yes the data is normally distributed\n"
          ]
        }
      ]
    },
    {
      "cell_type": "code",
      "metadata": {
        "id": "ikHabcjKEBfV",
        "colab": {
          "base_uri": "https://localhost:8080/",
          "height": 265
        },
        "outputId": "4297c18c-2a94-4038-a01f-8b25eeae1271"
      },
      "source": [
        "#plot the histogram of grades containing 20 bins. The output should be like the plot shown below. \n",
        "count, bins, ignored = plt.hist(df[\"Grades\"], bins = 20, density=True, stacked=True, color=\"r\")\n",
        "\n",
        "plt.show()"
      ],
      "execution_count": 56,
      "outputs": [
        {
          "output_type": "display_data",
          "data": {
            "image/png": "[encoded data removed]",
            "text/plain": [
              "<Figure size 432x288 with 1 Axes>"
            ]
          },
          "metadata": {
            "needs_background": "light"
          }
        }
      ]
    },
    {
      "cell_type": "code",
      "metadata": {
        "id": "W-V2JMKqmsB4",
        "colab": {
          "base_uri": "https://localhost:8080/",
          "height": 279
        },
        "outputId": "66848d59-38e8-47d3-f9d1-2b7ecd06a66f"
      },
      "source": [
        "# Plot the distribution curve\n",
        "mu = df[\"Grades\"].mean()\n",
        "sigma = df[\"Grades\"].std()\n",
        "plt.plot(bins, 1/(sigma * np.sqrt(2 * np.pi)) *\n",
        "    np.exp( - (bins - mu)**2 / (2 * sigma**2) ),       linewidth=3, color='y')\n",
        "plt.xlabel(\"Grades\")\n",
        "plt.ylabel(\"Frequencies\")\n",
        "plt.show()\n"
      ],
      "execution_count": 61,
      "outputs": [
        {
          "output_type": "display_data",
          "data": {
            "image/png": "[encoded data removed]",
            "text/plain": [
              "<Figure size 432x288 with 1 Axes>"
            ]
          },
          "metadata": {
            "needs_background": "light"
          }
        }
      ]
    },
    {
      "cell_type": "code",
      "metadata": {
        "id": "nH-KRivNEBfZ",
        "colab": {
          "base_uri": "https://localhost:8080/",
          "height": 279
        },
        "outputId": "b2146f65-15a3-4293-d632-83b41e91d882"
      },
      "source": [
        "#plot the probability density as histogram in blue and the probabability density function as a curve in yellow as shown below.\n",
        "count, bins, ignored = plt.hist(df[\"Grades\"], bins = 20, density=True, stacked=True, color=\"b\")\n",
        "mu = df[\"Grades\"].mean()\n",
        "sigma = df[\"Grades\"].std()\n",
        "plt.plot(bins, 1/(sigma * np.sqrt(2 * np.pi)) *\n",
        "    np.exp( - (bins - mu)**2 / (2 * sigma**2) ),       linewidth=3, color='y', label = \"Grades\")\n",
        "plt.xlabel(\"Grades\")\n",
        "plt.ylabel(\"Probability Density\")\n",
        "plt.legend()\n",
        "plt.show()"
      ],
      "execution_count": 64,
      "outputs": [
        {
          "output_type": "display_data",
          "data": {
            "image/png": "[encoded data removed]",
            "text/plain": [
              "<Figure size 432x288 with 1 Axes>"
            ]
          },
          "metadata": {
            "needs_background": "light"
          }
        }
      ]
    },
    {
      "cell_type": "code",
      "metadata": {
        "id": "WXjEGtTfEBfb"
      },
      "source": [
        "#Create model that would generated grades of students assuming they are normally distributed with mean and std coming from the dataset we used above.\n",
        "from scipy.stats import norm\n",
        "res = np.linspace(-5, 5, 1000)\n",
        "rv =  norm(mean, std)\n",
        "\n"
      ],
      "execution_count": 66,
      "outputs": []
    },
    {
      "cell_type": "code",
      "metadata": {
        "id": "Fi6_UnVpY5a1",
        "outputId": "8bb81191-b432-44e1-ccd0-5ddae2fb8f8a"
      },
      "source": [
        "\n",
        "for exp, info in experiments.items():\n",
        "    rv = norm(info['mean'], info['std'])\n",
        "    plt.plot(res, rv.pdf(res), label=info['label'], color = info['color'])\n",
        "plt.legend()\n",
        "plt.show()"
      ],
      "execution_count": null,
      "outputs": [
        {
          "data": {
            "image/png": "[encoded data removed]",
            "text/plain": [
              "<Figure size 432x288 with 1 Axes>"
            ]
          },
          "metadata": {
            "needs_background": "light"
          },
          "output_type": "display_data"
        }
      ]
    },
    {
      "cell_type": "code",
      "metadata": {
        "id": "xtJqv_5OEBfd"
      },
      "source": [
        "#Answer the following questions using the above declared model named rv"
      ],
      "execution_count": null,
      "outputs": []
    },
    {
      "cell_type": "markdown",
      "metadata": {
        "id": "FqA8CTd1EBff"
      },
      "source": [
        "1. Find the probability that a randomly selected student from this class has a test score that is less than 92"
      ]
    },
    {
      "cell_type": "code",
      "metadata": {
        "id": "RHoj5XHvEBfl",
        "colab": {
          "base_uri": "https://localhost:8080/"
        },
        "outputId": "034e9bd2-9b5d-4e89-c630-6d1d3b9f5890"
      },
      "source": [
        "prob = rv.cdf(92)\n",
        "print(\"Probability that a random student would take less than 92 is: \", prob)"
      ],
      "execution_count": 67,
      "outputs": [
        {
          "output_type": "stream",
          "name": "stdout",
          "text": [
            "Probability that a random student would take less than 92 is:  0.8439109037725567\n"
          ]
        }
      ]
    },
    {
      "cell_type": "markdown",
      "metadata": {
        "id": "KmT-ErRFEBfn"
      },
      "source": [
        "2. Find the probability that a randomly selected student from this class has a test score that between 80 and 90."
      ]
    },
    {
      "cell_type": "code",
      "metadata": {
        "id": "DukvABhNEBfq",
        "colab": {
          "base_uri": "https://localhost:8080/"
        },
        "outputId": "6c5e8aa2-5a84-407d-95b2-5929f73e03c4"
      },
      "source": [
        "prob = rv.cdf(90)-rv.cdf(80)\n",
        "print(\"Probability that a random student would take a grade between 80 and 90 is: \", prob)"
      ],
      "execution_count": 69,
      "outputs": [
        {
          "output_type": "stream",
          "name": "stdout",
          "text": [
            "Probability that a random student would take a grade between 80 and 90 is:  0.28915316095987553\n"
          ]
        }
      ]
    },
    {
      "cell_type": "markdown",
      "metadata": {
        "id": "gGtUgqVYEBfs"
      },
      "source": [
        "3. Find the probability that a randomly selected student from this class has a test score that greater than 70."
      ]
    },
    {
      "cell_type": "code",
      "metadata": {
        "id": "fS2YYy4kEBft",
        "colab": {
          "base_uri": "https://localhost:8080/"
        },
        "outputId": "cf18d595-499f-46d1-854d-3defa2307561"
      },
      "source": [
        "prob = 1- rv.cdf(70)\n",
        "print(\"Probability that a random student would take a grade greater than 70 is  \", prob)"
      ],
      "execution_count": 70,
      "outputs": [
        {
          "output_type": "stream",
          "name": "stdout",
          "text": [
            "Probability that a random student would take a grade greater than 70 is   0.783746752299991\n"
          ]
        }
      ]
    },
    {
      "cell_type": "markdown",
      "metadata": {
        "id": "kN6jdKbXEBfv"
      },
      "source": [
        "4. Find the test score that separates the bottom 30% from the top 70%"
      ]
    },
    {
      "cell_type": "code",
      "metadata": {
        "id": "PzFB_1MUEBfw",
        "colab": {
          "base_uri": "https://localhost:8080/"
        },
        "outputId": "7b658f91-ade2-49c0-9220-e6e9c79c7e52"
      },
      "source": [
        "grade = rv.ppf(.3)\n",
        "print(\"The test scores that separetes the bottom 30% from the top 70% is \", grade)"
      ],
      "execution_count": 71,
      "outputs": [
        {
          "output_type": "stream",
          "name": "stdout",
          "text": [
            "The test scores that separetes the bottom 30% from the top 70% is  73.19185386867586\n"
          ]
        }
      ]
    },
    {
      "cell_type": "markdown",
      "metadata": {
        "id": "FHN7HUANEBfy"
      },
      "source": [
        "5. If a student scores in the top 10% of all test scores, her test score is at least what?"
      ]
    },
    {
      "cell_type": "code",
      "metadata": {
        "id": "5XNGvANjEBf1",
        "colab": {
          "base_uri": "https://localhost:8080/"
        },
        "outputId": "66445772-935b-476e-8ece-f1802680473f"
      },
      "source": [
        "grade = rv.ppf(.9)\n",
        "print(\"If a student scores in the top 10% of all test scores, her test score is at least  \", grade)"
      ],
      "execution_count": 72,
      "outputs": [
        {
          "output_type": "stream",
          "name": "stdout",
          "text": [
            "If a student scores in the top 10% of all test scores, her test score is at least   95.3190366759932\n"
          ]
        }
      ]
    },
    {
      "cell_type": "markdown",
      "metadata": {
        "id": "ZYvOhYk4EBf2"
      },
      "source": [
        "6. What range of test scores constitutes the middle 50%?"
      ]
    },
    {
      "cell_type": "code",
      "metadata": {
        "id": "EA28JpAtEBf3",
        "colab": {
          "base_uri": "https://localhost:8080/"
        },
        "outputId": "4bea3b35-88ca-472f-aaf8-3b2b62778141"
      },
      "source": [
        "grade = rv.ppf(.25),rv.ppf(.75)\n",
        "print( grade, \" constitutes the middle 50% of the test scores\")"
      ],
      "execution_count": 74,
      "outputs": [
        {
          "output_type": "stream",
          "name": "stdout",
          "text": [
            "(71.35290585045267, 87.88109414954734)  constitutes the middle 50% of the test scores\n"
          ]
        }
      ]
    }
  ]
}